{
  "nbformat": 4,
  "nbformat_minor": 0,
  "metadata": {
    "colab": {
      "name": "POO Introduction.ipynb",
      "provenance": [],
      "collapsed_sections": [],
      "authorship_tag": "ABX9TyOOk5lFxHAxCGlJ5198PZ4f",
      "include_colab_link": true
    },
    "kernelspec": {
      "name": "python3",
      "display_name": "Python 3"
    },
    "language_info": {
      "name": "python"
    }
  },
  "cells": [
    {
      "cell_type": "markdown",
      "metadata": {
        "id": "view-in-github",
        "colab_type": "text"
      },
      "source": [
        "<a href=\"https://colab.research.google.com/github/Facco-Bruno/Alura-Python/blob/Master/POO_Introduction.ipynb\" target=\"_parent\"><img src=\"https://colab.research.google.com/assets/colab-badge.svg\" alt=\"Open In Colab\"/></a>"
      ]
    },
    {
      "cell_type": "code",
      "execution_count": null,
      "metadata": {
        "id": "Io_kwH7RIaf1"
      },
      "outputs": [],
      "source": [
        "def cria_conta(numero, titular, saldo, limite):\n",
        "    conta = {\"numero\": numero, \"titular\": titular, \"saldo\": saldo, \"limite\": limite}\n",
        "    return conta\n",
        "\n",
        "def deposita(conta, valor):\n",
        "    conta[\"saldo\"] += valor\n",
        "\n",
        "def saca(conta, valor):\n",
        "    conta[\"saldo\"] -= valor\n",
        "\n",
        "def extrato(conta):\n",
        "    print(\"Saldo {}\".format(conta[\"saldo\"]))"
      ]
    },
    {
      "cell_type": "code",
      "source": [
        "class Conta:\n",
        "\n",
        "    def __init__(self, numero, titular, saldo, limite):\n",
        "      print(\"Construindo objeto ... {}\".format(self))\n",
        "      self.__numero = numero\n",
        "      self.__titular = titular\n",
        "      self.__saldo = saldo\n",
        "      self.__limite = limite\n",
        "\n",
        "    def extrato(self):\n",
        "        print(\"Saldo de {} do titular {}\".format(self.__saldo, self.__titular))\n",
        "\n",
        "    def deposita(self, valor):\n",
        "        self.__saldo += valor\n",
        "\n",
        "    def saca(self, valor):\n",
        "        self.__saldo -= valor\n",
        "\n",
        "    def transfere(self, valor, destino):\n",
        "      self.saca(valor)\n",
        "      destino.deposita(valor)"
      ],
      "metadata": {
        "id": "5dYxVmsI39Bd"
      },
      "execution_count": null,
      "outputs": []
    },
    {
      "cell_type": "markdown",
      "source": [
        "O PARAMETRO SELF REFERE-SE AO OBJETO DA CLASSE INSTANCIADA, quando chamamos x.algumafuncao, o self refere-se a X, por que é o objeto relacionado a classe ao qual ele está instanciado"
      ],
      "metadata": {
        "id": "zgbE_CZd6gHh"
      }
    },
    {
      "cell_type": "markdown",
      "source": [
        "Usar dois __ torna os atributos do objeto restritos, não podendo serem modificados SEM utilizar um metodo para isso (função)."
      ],
      "metadata": {
        "id": "vPv-HuJ48gtQ"
      }
    }
  ]
}