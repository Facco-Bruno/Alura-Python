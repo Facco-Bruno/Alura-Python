{
  "nbformat": 4,
  "nbformat_minor": 0,
  "metadata": {
    "colab": {
      "name": "String Python.ipynb",
      "provenance": [],
      "collapsed_sections": [],
      "authorship_tag": "ABX9TyMmLizrxeq8qXc5trVOFVJw",
      "include_colab_link": true
    },
    "kernelspec": {
      "name": "python3",
      "display_name": "Python 3"
    },
    "language_info": {
      "name": "python"
    }
  },
  "cells": [
    {
      "cell_type": "markdown",
      "metadata": {
        "id": "view-in-github",
        "colab_type": "text"
      },
      "source": [
        "<a href=\"https://colab.research.google.com/github/Facco-Bruno/Alura-Python/blob/Master/String_Python.ipynb\" target=\"_parent\"><img src=\"https://colab.research.google.com/assets/colab-badge.svg\" alt=\"Open In Colab\"/></a>"
      ]
    },
    {
      "cell_type": "markdown",
      "source": [
        "## Extraindo informação de uma URL"
      ],
      "metadata": {
        "id": "i2ux_0Zn-Mp9"
      }
    },
    {
      "cell_type": "code",
      "execution_count": null,
      "metadata": {
        "colab": {
          "base_uri": "https://localhost:8080/"
        },
        "id": "wjr6UHTr-Kgb",
        "outputId": "8e742995-74b8-4a94-8426-b11a3c5e33fb"
      },
      "outputs": [
        {
          "output_type": "stream",
          "name": "stdout",
          "text": [
            "curso=python\n"
          ]
        }
      ],
      "source": [
        "url = \"https://www.alura.com.br/curso?curso=python\"\n",
        "indice_curso = url.find(\"curso\")\n",
        "indice_valor = indice_curso + len(\"curso\") + 1\n",
        "valor = url[indice_valor:]\n",
        "print(valor)"
      ]
    },
    {
      "cell_type": "code",
      "source": [
        "# url = \"bytebank.com/cambio?quantidade=100&moedaOrigem=real&moedaDestino=dolar\"\n",
        "url = \"\"\n",
        "\n",
        "# Sanitização da URL\n",
        "url = url.replace(\" \", \"\")\n",
        "\n",
        "# Validação da URL\n",
        "if url == \"\":\n",
        "    print(\"A URL está vazia\")\n",
        "\n",
        "# Separa base e parâmetros\n",
        "indice_interrogacao = url.find('?')\n",
        "url_base = url[:indice_interrogacao]\n",
        "url_parametros = url[indice_interrogacao+1:]\n",
        "print(url_parametros)\n",
        "\n",
        "# Busca o valor de um parâmetro\n",
        "parametro_busca = 'quantidade'\n",
        "indice_parametro = url_parametros.find(parametro_busca)\n",
        "indice_valor = indice_parametro + len(parametro_busca) + 1\n",
        "indice_e_comercial = url_parametros.find('&', indice_valor)\n",
        "if indice_e_comercial == -1:\n",
        "    valor = url_parametros[indice_valor:]\n",
        "else:\n",
        "    valor = url_parametros[indice_valor:indice_e_comercial]\n",
        "\n",
        "print(valor)"
      ],
      "metadata": {
        "id": "FQ4zd1A8GUPD"
      },
      "execution_count": null,
      "outputs": []
    },
    {
      "cell_type": "code",
      "source": [
        "class ExtratorURL:\n",
        "    def __init__(self, url):\n",
        "        self.url = self.sanitiza_url(url)\n",
        "        self.valida_url()\n",
        "\n",
        "    def sanitiza_url(self, url):\n",
        "        if type(url) == str:\n",
        "            return url.strip()\n",
        "        else:\n",
        "            return \"\"\n",
        "\n",
        "    def valida_url(self):\n",
        "        if not self.url:\n",
        "            raise ValueError(\"A URL está vazia\")\n",
        "\n",
        "    def get_url_base(self):\n",
        "        indice_interrogacao = self.url.find('?')\n",
        "        url_base = self.url[:indice_interrogacao]\n",
        "        return url_parametros\n",
        "\n",
        "    def get_url_parametros(self):\n",
        "        indice_interrogacao = self.url.find('?')\n",
        "        url_parametros = self.url[indice_interrogacao + 1:]\n",
        "        return url_parametros\n",
        "\n",
        "    def get_valor_parametro(self, parametro_busca):\n",
        "        indice_parametro = self.get_url_parametros().find(parametro_busca)\n",
        "        indice_valor = indice_parametro + len(parametro_busca) + 1\n",
        "        indice_e_comercial = self.get_url_parametros().find('&', indice_valor)\n",
        "        if indice_e_comercial == -1:\n",
        "            valor = self.get_url_parametros()[indice_valor:]\n",
        "        else:\n",
        "            valor = self.get_url_parametros()[indice_valor:indice_e_comercial]\n",
        "        return valor\n",
        "\n",
        "extrator_url = ExtratorURL(None)\n",
        "valor_quantidade = extrator_url.get_valor_parametro(\"quantidade\")\n",
        "print(valor_quantidade)"
      ],
      "metadata": {
        "id": "FYmcoGrMJPvp"
      },
      "execution_count": null,
      "outputs": []
    },
    {
      "cell_type": "code",
      "source": [
        "import re\n",
        "\n",
        "\n",
        "class ExtratorURL:\n",
        "    def __init__(self, url):\n",
        "        self.url = self.sanitiza_url(url)\n",
        "        self.valida_url()\n",
        "\n",
        "    def sanitiza_url(self, url):\n",
        "        if type(url) == str:\n",
        "            return url.strip()\n",
        "        else:\n",
        "            return \"\"\n",
        "\n",
        "    def valida_url(self):\n",
        "        if not self.url:\n",
        "            raise ValueError(\"A URL está vazia\")\n",
        "\n",
        "        padrao_url = re.compile('(http(s)?://)?(www.)?bytebank.com(.br)?/cambio')\n",
        "        match = padrao_url.match(url)\n",
        "        if not match:\n",
        "            raise ValueError(\"A URL não é válida.\")\n",
        "\n",
        "    def get_url_base(self):\n",
        "        indice_interrogacao = self.url.find('?')\n",
        "        url_base = self.url[:indice_interrogacao]\n",
        "        return url_base\n",
        "\n",
        "    def get_url_parametros(self):\n",
        "        indice_interrogacao = self.url.find('?')\n",
        "        url_parametros = self.url[indice_interrogacao + 1:]\n",
        "        return url_parametros\n",
        "\n",
        "    def get_valor_parametro(self, parametro_busca):\n",
        "        indice_parametro = self.get_url_parametros().find(parametro_busca)\n",
        "        indice_valor = indice_parametro + len(parametro_busca) + 1\n",
        "        indice_e_comercial = self.get_url_parametros().find('&', indice_valor)\n",
        "        if indice_e_comercial == -1:\n",
        "            valor = self.get_url_parametros()[indice_valor:]\n",
        "        else:\n",
        "            valor = self.get_url_parametros()[indice_valor:indice_e_comercial]\n",
        "        return valor\n",
        "    \n",
        "    def __len__(self):\n",
        "        return len(self.url)\n",
        "\n",
        "    def __str__(self):\n",
        "        return self.url + \"\\n\" + \"Parâmetros: \" + self.get_url_parametros() + \"\\n\" + \"URL Base: \" + self.get_url_base()\n",
        "\n",
        "    def __eq__(self, other):\n",
        "        return self.url == other.url\n"
      ],
      "metadata": {
        "id": "bu_QKod0Rlsl"
      },
      "execution_count": 3,
      "outputs": []
    },
    {
      "cell_type": "code",
      "source": [
        "url = \"bytebank.com/cambio?quantidade=100&moedaOrigem=real&moedaDestino=dolar\"\n",
        "extrator_url = ExtratorURL(url)"
      ],
      "metadata": {
        "id": "5Ds4vJdaXfuq"
      },
      "execution_count": 4,
      "outputs": []
    },
    {
      "cell_type": "code",
      "source": [
        "VALOR_DOLAR = 5.50  # 1 dólar = 5.50 reais\n",
        "moeda_origem = extrator_url.get_valor_parametro(\"moedaOrigem\")\n",
        "moeda_destino = extrator_url.get_valor_parametro(\"moedaDestino\")\n",
        "quantidade = int(extrator_url.get_valor_parametro(\"quantidade\"))\n",
        "\n",
        "if moeda_origem == 'real':\n",
        "  print(\"Dolar: %f\"%(quantidade/VALOR_DOLAR))\n",
        "\n",
        "else:\n",
        "  print(\"Real: %f\" %(quantidade*VALOR_DOLAR))"
      ],
      "metadata": {
        "colab": {
          "base_uri": "https://localhost:8080/"
        },
        "id": "MeuFpH5PXaPa",
        "outputId": "996a70e4-e4e8-43ea-a20f-4bc79eddda9a"
      },
      "execution_count": 15,
      "outputs": [
        {
          "output_type": "stream",
          "name": "stdout",
          "text": [
            "Dolar: 18.181818\n"
          ]
        }
      ]
    }
  ]
}