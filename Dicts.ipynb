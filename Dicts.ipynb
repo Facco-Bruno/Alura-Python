{
  "nbformat": 4,
  "nbformat_minor": 0,
  "metadata": {
    "colab": {
      "name": "Dicts.ipynb",
      "provenance": [],
      "authorship_tag": "ABX9TyNXffuO63/fAUZSkyi112x+",
      "include_colab_link": true
    },
    "kernelspec": {
      "name": "python3",
      "display_name": "Python 3"
    },
    "language_info": {
      "name": "python"
    }
  },
  "cells": [
    {
      "cell_type": "markdown",
      "metadata": {
        "id": "view-in-github",
        "colab_type": "text"
      },
      "source": [
        "<a href=\"https://colab.research.google.com/github/Facco-Bruno/Alura-Python/blob/Master/Dicts.ipynb\" target=\"_parent\"><img src=\"https://colab.research.google.com/assets/colab-badge.svg\" alt=\"Open In Colab\"/></a>"
      ]
    },
    {
      "cell_type": "code",
      "execution_count": 1,
      "metadata": {
        "id": "bhlaqZTGc9wD"
      },
      "outputs": [],
      "source": [
        "usuarios_data_science = [15, 23, 43, 56]\n",
        "usuarios_machine_learning = [13, 23, 56, 42]"
      ]
    },
    {
      "cell_type": "code",
      "source": [
        "assistiram = usuarios_data_science.copy()\n",
        "assistiram"
      ],
      "metadata": {
        "colab": {
          "base_uri": "https://localhost:8080/"
        },
        "id": "7bPjwVN_dgb6",
        "outputId": "af61e3d8-915d-4f0e-ed90-67bf42fcdab5"
      },
      "execution_count": 2,
      "outputs": [
        {
          "output_type": "execute_result",
          "data": {
            "text/plain": [
              "[15, 23, 43, 56]"
            ]
          },
          "metadata": {},
          "execution_count": 2
        }
      ]
    },
    {
      "cell_type": "code",
      "source": [
        "assistiram = usuarios_data_science.copy()\n",
        "assistiram.extend(usuarios_machine_learning)\n",
        "assistiram"
      ],
      "metadata": {
        "colab": {
          "base_uri": "https://localhost:8080/"
        },
        "id": "mIb2YiN8dhai",
        "outputId": "6c2a0a9f-908c-45a2-9211-0292ba059df7"
      },
      "execution_count": 3,
      "outputs": [
        {
          "output_type": "execute_result",
          "data": {
            "text/plain": [
              "[15, 23, 43, 56, 13, 23, 56, 42]"
            ]
          },
          "metadata": {},
          "execution_count": 3
        }
      ]
    },
    {
      "cell_type": "code",
      "source": [
        "set(assistiram)"
      ],
      "metadata": {
        "colab": {
          "base_uri": "https://localhost:8080/"
        },
        "id": "Xg1y3H0YdrQR",
        "outputId": "2ae76759-98f5-4400-a50c-e0b57f632008"
      },
      "execution_count": 4,
      "outputs": [
        {
          "output_type": "execute_result",
          "data": {
            "text/plain": [
              "{13, 15, 23, 42, 43, 56}"
            ]
          },
          "metadata": {},
          "execution_count": 4
        }
      ]
    },
    {
      "cell_type": "code",
      "source": [
        "set([1,2,3,1])"
      ],
      "metadata": {
        "colab": {
          "base_uri": "https://localhost:8080/"
        },
        "id": "fn8bJnVTd3-Y",
        "outputId": "3422e435-4d3b-495e-c542-04892e14ee24"
      },
      "execution_count": 5,
      "outputs": [
        {
          "output_type": "execute_result",
          "data": {
            "text/plain": [
              "{1, 2, 3}"
            ]
          },
          "metadata": {},
          "execution_count": 5
        }
      ]
    },
    {
      "cell_type": "code",
      "source": [
        "{4, 1,2,3,1}"
      ],
      "metadata": {
        "colab": {
          "base_uri": "https://localhost:8080/"
        },
        "id": "djteWAjMd6Oj",
        "outputId": "9d3bbeb2-81b4-4b5a-bfac-9b78b1c607bb"
      },
      "execution_count": 6,
      "outputs": [
        {
          "output_type": "execute_result",
          "data": {
            "text/plain": [
              "{1, 2, 3, 4}"
            ]
          },
          "metadata": {},
          "execution_count": 6
        }
      ]
    },
    {
      "cell_type": "code",
      "source": [
        "usuarios_data_science = {15, 23, 43, 56}\n",
        "usuarios_machine_learning = {13, 23, 56, 42}"
      ],
      "metadata": {
        "id": "rcv-6l-qeBc9"
      },
      "execution_count": 7,
      "outputs": []
    },
    {
      "cell_type": "code",
      "source": [
        "usuarios_machine_learning"
      ],
      "metadata": {
        "colab": {
          "base_uri": "https://localhost:8080/"
        },
        "id": "_Hs5iyYHeCcz",
        "outputId": "81122b39-06b4-4753-e8c4-4fa781ecdc4c"
      },
      "execution_count": 8,
      "outputs": [
        {
          "output_type": "execute_result",
          "data": {
            "text/plain": [
              "{13, 23, 42, 56}"
            ]
          },
          "metadata": {},
          "execution_count": 8
        }
      ]
    },
    {
      "cell_type": "markdown",
      "source": [
        "# SET NÃO TEM ÍNDICE"
      ],
      "metadata": {
        "id": "Bq_nObhteFUA"
      }
    },
    {
      "cell_type": "code",
      "source": [
        "for usuario in set(assistiram):\n",
        "  print(usuario)"
      ],
      "metadata": {
        "colab": {
          "base_uri": "https://localhost:8080/"
        },
        "id": "gNplC9F9eEGL",
        "outputId": "33b8dbaa-7ee5-4fb3-e261-d8a919170762"
      },
      "execution_count": 9,
      "outputs": [
        {
          "output_type": "stream",
          "name": "stdout",
          "text": [
            "42\n",
            "43\n",
            "13\n",
            "15\n",
            "23\n",
            "56\n"
          ]
        }
      ]
    },
    {
      "cell_type": "code",
      "source": [
        "usuarios_data_science = {15, 23, 43, 56}\n",
        "usuarios_machine_learning = {13, 23, 56, 42}"
      ],
      "metadata": {
        "id": "Vg6yZfT4eLzC"
      },
      "execution_count": 10,
      "outputs": []
    },
    {
      "cell_type": "code",
      "source": [
        "usuarios_data_science | usuarios_machine_learning"
      ],
      "metadata": {
        "colab": {
          "base_uri": "https://localhost:8080/"
        },
        "id": "ol9R0RO9eMg1",
        "outputId": "5b00ff35-2fb8-460c-fabd-311998ca1eba"
      },
      "execution_count": 11,
      "outputs": [
        {
          "output_type": "execute_result",
          "data": {
            "text/plain": [
              "{13, 15, 23, 42, 43, 56}"
            ]
          },
          "metadata": {},
          "execution_count": 11
        }
      ]
    },
    {
      "cell_type": "code",
      "source": [
        "usuarios_data_science & usuarios_machine_learning"
      ],
      "metadata": {
        "colab": {
          "base_uri": "https://localhost:8080/"
        },
        "id": "GbN2Di1FfEow",
        "outputId": "d92395c0-6916-44c3-a61e-4a5a1c3913b7"
      },
      "execution_count": 12,
      "outputs": [
        {
          "output_type": "execute_result",
          "data": {
            "text/plain": [
              "{23, 56}"
            ]
          },
          "metadata": {},
          "execution_count": 12
        }
      ]
    },
    {
      "cell_type": "code",
      "source": [
        "usuarios_data_science - usuarios_machine_learning"
      ],
      "metadata": {
        "colab": {
          "base_uri": "https://localhost:8080/"
        },
        "id": "kSFWQgKCfGnh",
        "outputId": "947ea932-151a-410b-c6d3-31835241d07e"
      },
      "execution_count": 13,
      "outputs": [
        {
          "output_type": "execute_result",
          "data": {
            "text/plain": [
              "{15, 43}"
            ]
          },
          "metadata": {},
          "execution_count": 13
        }
      ]
    },
    {
      "cell_type": "code",
      "source": [
        "usuarios_data_science ^ usuarios_machine_learning"
      ],
      "metadata": {
        "colab": {
          "base_uri": "https://localhost:8080/"
        },
        "id": "dy_ClXC6fe7Z",
        "outputId": "0af134b8-ef4e-4173-ba4c-ab8cb5eae527"
      },
      "execution_count": 14,
      "outputs": [
        {
          "output_type": "execute_result",
          "data": {
            "text/plain": [
              "{13, 15, 42, 43}"
            ]
          },
          "metadata": {},
          "execution_count": 14
        }
      ]
    },
    {
      "cell_type": "code",
      "source": [
        "usuarios = {1,5,76,34,52,13,17}\n",
        "len(usuarios)"
      ],
      "metadata": {
        "colab": {
          "base_uri": "https://localhost:8080/"
        },
        "id": "kVifhSS28lYd",
        "outputId": "11466c65-e2a8-440a-cd8e-e48a79e13c27"
      },
      "execution_count": 16,
      "outputs": [
        {
          "output_type": "execute_result",
          "data": {
            "text/plain": [
              "7"
            ]
          },
          "metadata": {},
          "execution_count": 16
        }
      ]
    },
    {
      "cell_type": "code",
      "source": [
        "usuarios.add(765)\n",
        "len(usuarios)"
      ],
      "metadata": {
        "colab": {
          "base_uri": "https://localhost:8080/"
        },
        "id": "pryj7CCZ8hp6",
        "outputId": "28bb07bd-2545-4cf9-fbb2-79e9966b9680"
      },
      "execution_count": 17,
      "outputs": [
        {
          "output_type": "execute_result",
          "data": {
            "text/plain": [
              "8"
            ]
          },
          "metadata": {},
          "execution_count": 17
        }
      ]
    },
    {
      "cell_type": "code",
      "source": [
        "meu_texto = \"Bem vindo meu nome é Guilherme eu gosto muito de nomes e tenho o meu cachorro e gosto muito de cachorro\""
      ],
      "metadata": {
        "id": "evgwlnsC8m59"
      },
      "execution_count": 18,
      "outputs": []
    },
    {
      "cell_type": "code",
      "source": [
        "set(meu_texto.split())"
      ],
      "metadata": {
        "colab": {
          "base_uri": "https://localhost:8080/"
        },
        "id": "UmYPYCri8uZ5",
        "outputId": "d4d10dfb-8875-4f9b-9fd7-64dbbbf0b064"
      },
      "execution_count": 19,
      "outputs": [
        {
          "output_type": "execute_result",
          "data": {
            "text/plain": [
              "{'Bem',\n",
              " 'Guilherme',\n",
              " 'cachorro',\n",
              " 'de',\n",
              " 'e',\n",
              " 'eu',\n",
              " 'gosto',\n",
              " 'meu',\n",
              " 'muito',\n",
              " 'nome',\n",
              " 'nomes',\n",
              " 'o',\n",
              " 'tenho',\n",
              " 'vindo',\n",
              " 'é'}"
            ]
          },
          "metadata": {},
          "execution_count": 19
        }
      ]
    },
    {
      "cell_type": "code",
      "source": [
        "meu_texto = \"Bem vindo meu nome é Guilherme eu gosto muito de nomes e tenho o meu cachorro e gosto muito de cachorro\"\n",
        "meu_texto = meu_texto.lower()"
      ],
      "metadata": {
        "id": "luRbGB39_k8b"
      },
      "execution_count": 20,
      "outputs": []
    },
    {
      "cell_type": "code",
      "source": [
        "meu_texto = \"Bem vindo meu nome é Guilherme eu gosto muito de nomes e tenho o meu cachorro e gosto muito de cachorro\"\n",
        "meu_texto = meu_texto.lower()\n",
        "\n",
        "aparicoes = {}\n",
        "\n",
        "for palavra in meu_texto.split():\n",
        "  ate_agora = aparicoes.get(palavra, 0)\n",
        "  aparicoes[palavra] = ate_agora + 1\n",
        "\n",
        "aparicoes"
      ],
      "metadata": {
        "colab": {
          "base_uri": "https://localhost:8080/"
        },
        "id": "E_UTYfIv_ll-",
        "outputId": "6e5c9fa9-5515-40ef-abb0-a7b36b191ca2"
      },
      "execution_count": 21,
      "outputs": [
        {
          "output_type": "execute_result",
          "data": {
            "text/plain": [
              "{'bem': 1,\n",
              " 'cachorro': 2,\n",
              " 'de': 2,\n",
              " 'e': 2,\n",
              " 'eu': 1,\n",
              " 'gosto': 2,\n",
              " 'guilherme': 1,\n",
              " 'meu': 2,\n",
              " 'muito': 2,\n",
              " 'nome': 1,\n",
              " 'nomes': 1,\n",
              " 'o': 1,\n",
              " 'tenho': 1,\n",
              " 'vindo': 1,\n",
              " 'é': 1}"
            ]
          },
          "metadata": {},
          "execution_count": 21
        }
      ]
    },
    {
      "cell_type": "code",
      "source": [
        "from collections import defaultdict"
      ],
      "metadata": {
        "id": "CkvGln0F_xWl"
      },
      "execution_count": 22,
      "outputs": []
    },
    {
      "cell_type": "code",
      "source": [
        "from collections import defaultdict\n",
        "\n",
        "aparicoes = defaultdict(int)\n",
        "\n",
        "for palavra in meu_texto.split():\n",
        "  ate_agora = aparicoes.get(palavra, 0)\n",
        "  aparicoes[palavra] = ate_agora + 1\n",
        "\n",
        "aparicoes"
      ],
      "metadata": {
        "colab": {
          "base_uri": "https://localhost:8080/"
        },
        "id": "T-_4_bG__8Xd",
        "outputId": "58aaae54-9f6b-4a83-e81d-dfde6425ddf3"
      },
      "execution_count": 23,
      "outputs": [
        {
          "output_type": "execute_result",
          "data": {
            "text/plain": [
              "defaultdict(int,\n",
              "            {'bem': 1,\n",
              "             'cachorro': 2,\n",
              "             'de': 2,\n",
              "             'e': 2,\n",
              "             'eu': 1,\n",
              "             'gosto': 2,\n",
              "             'guilherme': 1,\n",
              "             'meu': 2,\n",
              "             'muito': 2,\n",
              "             'nome': 1,\n",
              "             'nomes': 1,\n",
              "             'o': 1,\n",
              "             'tenho': 1,\n",
              "             'vindo': 1,\n",
              "             'é': 1})"
            ]
          },
          "metadata": {},
          "execution_count": 23
        }
      ]
    },
    {
      "cell_type": "code",
      "source": [
        "from collections import defaultdict\n",
        "\n",
        "aparicoes = defaultdict(int)\n",
        "\n",
        "for palavra in meu_texto.split():\n",
        "  ate_agora = aparicoes[palavra]\n",
        "  aparicoes[palavra] = ate_agora + 1\n",
        "\n",
        "aparicoes"
      ],
      "metadata": {
        "colab": {
          "base_uri": "https://localhost:8080/"
        },
        "id": "2Cp-tvf9BquD",
        "outputId": "cbdb8a94-dde1-433a-f4b0-dd7ac279dbea"
      },
      "execution_count": 24,
      "outputs": [
        {
          "output_type": "execute_result",
          "data": {
            "text/plain": [
              "defaultdict(int,\n",
              "            {'bem': 1,\n",
              "             'cachorro': 2,\n",
              "             'de': 2,\n",
              "             'e': 2,\n",
              "             'eu': 1,\n",
              "             'gosto': 2,\n",
              "             'guilherme': 1,\n",
              "             'meu': 2,\n",
              "             'muito': 2,\n",
              "             'nome': 1,\n",
              "             'nomes': 1,\n",
              "             'o': 1,\n",
              "             'tenho': 1,\n",
              "             'vindo': 1,\n",
              "             'é': 1})"
            ]
          },
          "metadata": {},
          "execution_count": 24
        }
      ]
    },
    {
      "cell_type": "code",
      "source": [
        "aparicoes = defaultdict(int)\n",
        "\n",
        "for palavra in meu_texto.split():\n",
        "  aparicoes[palavra] += 1\n",
        "\n",
        "aparicoes"
      ],
      "metadata": {
        "colab": {
          "base_uri": "https://localhost:8080/"
        },
        "id": "C73uF_Z5BzNs",
        "outputId": "ee150798-dc69-4902-f45c-57545de2d9d4"
      },
      "execution_count": 25,
      "outputs": [
        {
          "output_type": "execute_result",
          "data": {
            "text/plain": [
              "defaultdict(int,\n",
              "            {'bem': 1,\n",
              "             'cachorro': 2,\n",
              "             'de': 2,\n",
              "             'e': 2,\n",
              "             'eu': 1,\n",
              "             'gosto': 2,\n",
              "             'guilherme': 1,\n",
              "             'meu': 2,\n",
              "             'muito': 2,\n",
              "             'nome': 1,\n",
              "             'nomes': 1,\n",
              "             'o': 1,\n",
              "             'tenho': 1,\n",
              "             'vindo': 1,\n",
              "             'é': 1})"
            ]
          },
          "metadata": {},
          "execution_count": 25
        }
      ]
    },
    {
      "cell_type": "code",
      "source": [
        "from collections import Counter\n",
        "\n",
        "aparicoes = Counter(meu_texto.split())\n",
        "\n",
        "aparicoes"
      ],
      "metadata": {
        "colab": {
          "base_uri": "https://localhost:8080/"
        },
        "id": "F9k0Kv6nB93E",
        "outputId": "64e24b67-c870-49b5-f5f3-ab08a30bf902"
      },
      "execution_count": 28,
      "outputs": [
        {
          "output_type": "execute_result",
          "data": {
            "text/plain": [
              "Counter({'bem': 1,\n",
              "         'cachorro': 2,\n",
              "         'de': 2,\n",
              "         'e': 2,\n",
              "         'eu': 1,\n",
              "         'gosto': 2,\n",
              "         'guilherme': 1,\n",
              "         'meu': 2,\n",
              "         'muito': 2,\n",
              "         'nome': 1,\n",
              "         'nomes': 1,\n",
              "         'o': 1,\n",
              "         'tenho': 1,\n",
              "         'vindo': 1,\n",
              "         'é': 1})"
            ]
          },
          "metadata": {},
          "execution_count": 28
        }
      ]
    },
    {
      "cell_type": "code",
      "source": [
        "texto1 = \"\"\"\n",
        "Para começar a fazer vendas online, uma empresa que fabrica adesivos criou uma página para pré cadastro de cartão de crédito que contém campos como nome, idade, endereço, CPF entre outros.\n",
        "\n",
        "O problema é que alguns cadastros não possuem um formato de CPF válido, isso porque o campo não possui nenhuma validação. Ou seja, o campo está aceitando não só números como letras e outros tipos de caractere.\n",
        "\n",
        "O que vamos fazer é encontrar uma maneira de ajudar o usuário de forma mais clara possível a preencher o cadastro e garantir a validação no front-end antes que os dados sejam enviados para o back-end.\n",
        "\n",
        "\n",
        "\n",
        "Como podemos notar não temos nenhuma validação, então fica confuso se devemos ou não colocar ponto ou traço no CPF e pode acontecer do usuário colocar outros caracteres no campo sem querer.\n",
        "\n",
        "Para isso evitar que isso ocorra vamos usar o atributo pattern do HTML5 que nos permite fazer uso das famosas expressões regulares que nada mais são que padrões utilizados para selecionar caracteres em uma string.\n",
        "\n",
        "Na nossa verificação vamos usar a lista [0-9], esse padrão indica que queremos os números de 0 até 9 e o intervalo {11}, indicando que temos que ter um número de 11 dígitos no nosso campo.\n",
        "\n",
        "Com a adição do pattern nosso campo de CPF ficou da seguinte maneira:\n",
        "\n",
        "\n",
        "\n",
        "Com a ajuda do pattern e das expressões regulares conseguimos resolver uma parte da tarefa, agora o que precisamos fazer encontrar uma maneira de formatar o CPF no padrão que precisamos enviar ao back-end.\n",
        "\n",
        "Mais um pouco de Regex\n",
        "Para começar vamos criar uma função que vai ser responsável por formatar o CPF. Dentro dessa função vamos ter as variáveis :\n",
        "\n",
        "elementoAlvo: responsável pelo parâmetro que vai ser passado na função\n",
        "cpfAtual: responsável por capturar os números do CPF digitados\n",
        "cpfAtualizado: responsável por receber o CPF formatado.\n",
        "\"\"\""
      ],
      "metadata": {
        "id": "Kdu1jvnRHQ1H"
      },
      "execution_count": 29,
      "outputs": []
    },
    {
      "cell_type": "code",
      "source": [
        "texto2 = \"\"\"\n",
        "Vamos imaginar uma empresa como o Nubank, seu nome é ByteBank. A primeira vista ela vende cartões de crédito e possui uma estratégia de marketing de conteúdo para seus clientes (Business to Consumer, B2C).\n",
        "\n",
        "Agora ela está lançando um novo cartão focado em empresas e quer criar uma estratégia de marketing de conteúdo para outras empresas (business to business, B2B).\n",
        "\n",
        "Como eles podem criar essa estratégia? É possível utilizar ideias e ferramentas do marketing de conteúdo B2C para o B2B?\n",
        "\n",
        "No marketing de conteúdo criado para B2C da ByteBank é muito enfatizado que as principais vantagens da empresa são:\n",
        "\n",
        "saber o limite na hora;\n",
        "não pagar qualquer tarifa e\n",
        "não ter que lidar com burocracia na hora de fazer o cartão.\n",
        "Então, todo o plano é focado em criar conteúdos sobre questões relacionadas ao mundo financeiro, para mostrar que a empresa é especialista no assunto, transmitindo uma confiança aos clientes.\n",
        "\n",
        "A equipe de marketing escreveu um texto no qual foram explicadas todas as taxas do cartão de crédito. Depois de explicar com detalhes o que é cada taxa, foi mostrado o porquê do cartão dessa empresa não cobrar nenhuma delas.\n",
        "\n",
        "Para mostrar na prática o quanto o consumidor economizaria, eles deram como um exemplo que mostram o que pode ser comprado com o dinheiro economizado em tarifas do cartão. Veja como ficou o texto:\n",
        "\n",
        "Se a tarifa é de 30 reais por mês, depois de um ano: 30 (tarifa) * 12 (meses) = 360, você gasta R$ 360,00 só em tarifas! Não seria muito melhor comprar um Kindle ou dois jogos para Playstation 4 ou, até mesmo, ir uma vez por mês ao cinema (e pagando inteira) com esse dinheiro em vez de pagá-lo em tarifas?\n",
        "\n",
        "Será que se pode fazer a mesma coisa para o B2B, já que não existem tarifas para empresas também?\n",
        "\n",
        "As empresas que querem comprar um produto precisam avaliar muito bem toda a compra, sempre se perguntando se aquele produto realmente compensa para ela, principalmente a longo prazo.\n",
        "\n",
        "Então, e se fosse dito coisas que a empresa poderia fazer com o dinheiro que também vão trazer um retorno financeiro, ao contrário das taxas dos bancos? Como fazer pesquisas com usuários, desenvolver novos produtos, treinar pessoas para marketing, entre outras coisas?\n",
        "\n",
        "Pensando nessas diferenças, utilizamos o mesmo exemplo: quanto seria economizado por ano pela empresa cliente. Porém, no texto inteiro, queremos também mostrar dicas de como ela pode poupar, de diversas maneiras, mesmo usando um cartão de crédito. Então, o exemplo de economia no texto ficou assim:\n",
        "\n",
        "Pensando que a tarifa para empresas é mais barata que para pessoas físicas, ou seja, de 30 reais, passa a ser 10 reais por cartão para cada colaborador, e dez cartões serão feitos, cada um pertencendo a colaborador, depois de um ano, serão pagos: 10 (de tarifa) * 10 (quantidade de cartões) * 12 (meses do ano) = 1200.\n",
        "\n",
        "Assim, a organização gastaria R$ 1.200,00 para manter os cartões durante esse período. Agora, se os cartões não possuem tarifa nenhuma, em vez de pagar esse valor, a empresa economizará R$1.200,00.\n",
        "\n",
        "Agora, com essa economia, você poderia investir em treinamentos ou eventos, que, após um tempo, poderiam aumentar ainda mais o retorno da empresa.\n",
        "\n",
        "Foi usada uma linguagem mais formal do que a B2C porque quando estamos lidando com empresas temos que ser mais práticos e mostrar exatamente o que a empresa ganha, e, no caso, até como poderia ganhar mais depois.\n",
        "\n",
        "Além dessa mudança na linguagem, tivemos ideias diferentes de conteúdo. No B2C foram apresentados conhecimentos a respeito de cada taxa, para que a pessoa entenda o que está pagando e confie em empresas que não cobra as taxas.\n",
        "\n",
        "Agora para B2B foram apresentadas formas para economizar no cartão, pois, muitas vezes, os empresários sabem o que é cada taxa do cartão e tem que utilizá-lo mesmo assim. Então, mostramos como ele pode economizar e, uma dessas formas, é usar o cartão da ByteBank.\n",
        "\n",
        "Nesse mesmo texto para B2B também acrescentamos o conteúdo de outra vantagem do cartão: poder determinar um limite de gastos para cada categoria nos cartões dos funcionários da empresa.\n",
        "\n",
        "Dessa forma, os funcionários não podem gastar mais do que o determinado e, assim, a empresa consegue economizar e planejar os gastos e não extrapolar com compras dos funcionários.\n",
        "\n",
        "O foco da comunicação B2B que utilizamos foi dar dicas para não cometer erros e economizar mais, para que a empresa perceba que utilizar o cartão é vantagem.\n",
        "\n",
        "E caso a sua empresa seja diferente da ByteBank, seja só B2B e não tenha nenhum plano de comunicação focado para B2C para se basear?\n",
        "\n",
        "Existem diversas empresas B2B:\n",
        "\n",
        "as que vendem tanto para B2B quanto para B2C, como a ByteBank;\n",
        "as que vendem para ambos os consumidores, mas possuem um foco maior no B2B, como a Marmotex, que tem como serviço entrega de marmitas e entregam tanto para consumidores quanto empresas, mas possuem um foco maior em organizações e catering para eventos, ou seja, B2B\n",
        "as empresas somente B2B, como as de agências de publicidade.\n",
        "Cada uma das empresas que são B2B possui um produto e um serviço para mostrar.\n",
        "\n",
        "Então, caso você trabalhe em uma empresa que não possui um plano de marketing de conteúdo para B2C para se basear, é só seguir a ideia do marketing de conteúdo, de passar informações relacionados a sua empresa, tornando-a uma autoridade no assunto. E, além disso, mostrar maneiras que o seu produto e/ou serviço pode ajudar a empresa em determinado tema.\n",
        "\n",
        "No B2B, como no marketing de conteúdo focado no B2C, é importante frisar a importância e a relevância do produto e/ou serviço para o cliente. E, melhor, a longo prazo.\n",
        "\n",
        "A empresa cliente precisa entender e saber que a vantagem trazida pelo produto será duradoura. Pois o processo de compra B2B é mais longo justamente porque há muito em jogo e muitas pessoas envolvidas.\n",
        "\n",
        "Mudar de produto ou serviço é trabalhoso e pode causar prejuízo para a empresa, assim, eles buscam e precisam de garantias de que a solução funcionará por muito tempo.\n",
        "\n",
        "Assim, como no marketing B2C, os tipos de conteúdo devem se atentar aos clientes em cada fase do funil de marketing de conteúdo para trazer o conteúdo certo para a empresa em cada momento da obtenção do cartão.\n",
        "\n",
        "Para isso, a Bytebank utilizou dados, números, infográficos e mostrou com exemplos práticos maneiras de ajudar a contratante. Também escreveu conteúdos com histórias de empresas – os chamados cases de sucesso – que obtiveram lucro ou sucesso com o produto/serviço.\n",
        "\n",
        "Além disso, apresentou novidades e dicas tanto da sua empresa, que passou a fornecer uma conta para pessoas físicas e jurídicas, quanto do segmento dela, com informações que podem ser úteis ao cliente do setor financeiro.\n",
        "\n",
        "Como vimos, as principais diferenças entre os conteúdos B2C para o B2B são a linguagem, que deve ser mais formal se for B2B e apelar para o emocional se for B2C.\n",
        "\n",
        "No B2B você estará lidando com pessoas que tomam decisões nas empresas, então deverá mostrar como o produto pode ajudar a empresa, de preferência a longo prazo.\n",
        "\n",
        "Fora isso, o tipo de conteúdo pode ser o mesmo do marketing de conteúdo B2C. Passando desde textos sobre novidades, inovações e dicas na área, até infográficos com dados de pesquisas, vídeos, áudios de podcast, imagens e publicações nas redes sociais.\n",
        "\n",
        "Também, para conteúdo B2B, é muito comum encontrar whitepapers, grupos de usuários, meetups, cases de sucesso, trial gratuito, e até mesmo vídeos ou campanhas e posts de marketing com influenciadores.\n",
        "\"\"\""
      ],
      "metadata": {
        "id": "LjsN8qKrHVYT"
      },
      "execution_count": 30,
      "outputs": []
    },
    {
      "cell_type": "code",
      "source": [
        "def analisa_frequencia_de_letras(texto):\n",
        "  aparicoes = Counter(texto.lower())\n",
        "  total_de_caracteres = sum(aparicoes.values())\n",
        "\n",
        "  proporcoes = [(letra, frequencia / total_de_caracteres) for letra, frequencia in aparicoes.items()]\n",
        "  proporcoes = Counter(dict(proporcoes))\n",
        "  mais_comuns = proporcoes.most_common(10)\n",
        "  for caractere, proporcao in mais_comuns:\n",
        "    print(\"{} => {:.2f}%\".format(caractere, proporcao * 100))"
      ],
      "metadata": {
        "id": "kpPYZImhHoMN"
      },
      "execution_count": 31,
      "outputs": []
    },
    {
      "cell_type": "code",
      "source": [
        "analisa_frequencia_de_letras(texto1)"
      ],
      "metadata": {
        "colab": {
          "base_uri": "https://localhost:8080/"
        },
        "id": "kCcwbzw8H4y2",
        "outputId": "c3b0ce57-c194-4fd4-ee43-660ca8c8a315"
      },
      "execution_count": 32,
      "outputs": [
        {
          "output_type": "stream",
          "name": "stdout",
          "text": [
            "  => 16.14%\n",
            "a => 9.61%\n",
            "o => 9.45%\n",
            "e => 8.68%\n",
            "r => 6.75%\n",
            "s => 6.37%\n",
            "n => 4.17%\n",
            "m => 3.62%\n",
            "c => 3.57%\n",
            "u => 3.57%\n"
          ]
        }
      ]
    },
    {
      "cell_type": "code",
      "source": [
        "analisa_frequencia_de_letras(texto2)"
      ],
      "metadata": {
        "colab": {
          "base_uri": "https://localhost:8080/"
        },
        "id": "7_DQs4AQH7Qy",
        "outputId": "acae0568-5639-4817-fcf9-cd6e4c764ce8"
      },
      "execution_count": 33,
      "outputs": [
        {
          "output_type": "stream",
          "name": "stdout",
          "text": [
            "  => 16.28%\n",
            "a => 9.85%\n",
            "e => 9.40%\n",
            "o => 8.54%\n",
            "s => 6.73%\n",
            "r => 5.76%\n",
            "m => 4.45%\n",
            "t => 4.01%\n",
            "i => 3.99%\n",
            "n => 3.91%\n"
          ]
        }
      ]
    }
  ]
}