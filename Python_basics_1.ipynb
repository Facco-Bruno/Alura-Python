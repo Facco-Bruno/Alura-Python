{
  "nbformat": 4,
  "nbformat_minor": 0,
  "metadata": {
    "colab": {
      "name": "Python basics 1.ipynb",
      "provenance": [],
      "collapsed_sections": []
    },
    "kernelspec": {
      "name": "python3",
      "display_name": "Python 3"
    },
    "language_info": {
      "name": "python"
    }
  },
  "cells": [
    {
      "cell_type": "code",
      "execution_count": 3,
      "metadata": {
        "colab": {
          "base_uri": "https://localhost:8080/"
        },
        "id": "fu8NIB7u9TXq",
        "outputId": "d0880091-0d5e-4274-b7ed-8ae24f047257"
      },
      "outputs": [
        {
          "output_type": "stream",
          "name": "stdout",
          "text": [
            "15/10/2015\n"
          ]
        }
      ],
      "source": [
        "dia = 15\n",
        "mes = 10\n",
        "ano = 2015\n",
        "\n",
        "print(dia, mes, ano, sep='/')"
      ]
    },
    {
      "cell_type": "code",
      "source": [
        "# adivinhacao.py\n",
        "\n",
        "import random\n",
        "\n",
        "def jogar():\n",
        "    print(\"*********************************\")\n",
        "    print(\"Bem vindo ao jogo de Adivinhação!\")\n",
        "    print(\"*********************************\")\n",
        "\n",
        "    numero_secreto = random.randrange(1, 100)\n",
        "    total_de_tentativas = 0\n",
        "    pontos = 1000\n",
        "\n",
        "    print(\"Qual o nível de dificuldade?\")\n",
        "    print(\"(1) Fácil (2) Médio (3) Difícil\")\n",
        "\n",
        "    nivel = int(input(\"Defina o nível: \"))\n",
        "\n",
        "    if (nivel == 1):\n",
        "        total_de_tentativas = 20\n",
        "    elif (nivel == 2):\n",
        "        total_de_tentativas = 10\n",
        "    else:\n",
        "        total_de_tentativas = 5\n",
        "\n",
        "    for rodada in range(1, total_de_tentativas + 1):\n",
        "        print(\"Tentativa {} de {}\".format(rodada, total_de_tentativas))\n",
        "        chute_str = input(\"Digite um número entre 1 e 100: \")\n",
        "        print(\"Você digitou: \", chute_str)\n",
        "        chute = int(chute_str)\n",
        "\n",
        "        if (chute < 1 or chute > 100):\n",
        "            print(\"Você deve digitar um número entre 1 e 100!\")\n",
        "            continue\n",
        "\n",
        "        acertou = numero_secreto == chute\n",
        "        maior = chute > numero_secreto\n",
        "        menor = chute < numero_secreto\n",
        "\n",
        "        if (acertou):\n",
        "            print(\"Você acertou e fez {} pontos!\".format(pontos))\n",
        "            break\n",
        "        else:\n",
        "            if (maior):\n",
        "                print(\"Você errou! O seu chute foi maior que o número secreto.\")\n",
        "            elif (menor):\n",
        "                print(\"Você errou! O seu chute foi menor que o número secreto.\")\n",
        "            pontos_perdidos = abs(numero_secreto - chute)\n",
        "            pontos = pontos - pontos_perdidos\n",
        "\n",
        "    print(\"Fim do jogo\")\n",
        "\n",
        "if (__name__ == \"__main__\"):\n",
        "    jogar()\n",
        "\n",
        "## Se executar diretamente ele roda o programa com o nome, que no caso é o próprio arquivo"
      ],
      "metadata": {
        "id": "aNsdIWprflry"
      },
      "execution_count": null,
      "outputs": []
    },
    {
      "cell_type": "code",
      "source": [
        "import random\n",
        "\n",
        "sorteado = random.randrange(0,4)\n",
        "\n",
        "print(sorteado)\n",
        "\n",
        "if sorteado == 1:\n",
        "    print( \"Paulo\")\n",
        "elif sorteado == 2:\n",
        "    print(\"Juliana\")\n",
        "else:\n",
        "    print(\"Tamires\")"
      ],
      "metadata": {
        "colab": {
          "base_uri": "https://localhost:8080/"
        },
        "id": "--GM6AO-Qvlf",
        "outputId": "095dc59b-433a-4352-a72a-94c46149e945"
      },
      "execution_count": 20,
      "outputs": [
        {
          "output_type": "stream",
          "name": "stdout",
          "text": [
            "3\n",
            "Tamires\n"
          ]
        }
      ]
    },
    {
      "cell_type": "code",
      "source": [
        "# forca.py\n",
        "\n",
        "def jogar():\n",
        "    print(\"*********************************\")\n",
        "    print(\"***Bem vindo ao jogo da Forca!***\")\n",
        "    print(\"*********************************\")\n",
        "\n",
        "    print(\"Fim do jogo\")\n",
        "\n",
        "if(__name__ == \"__main__\"):\n",
        "    jogar()"
      ],
      "metadata": {
        "id": "yHNtU7MZhrqD"
      },
      "execution_count": null,
      "outputs": []
    },
    {
      "cell_type": "code",
      "source": [
        "# jogos.py\n",
        "\n",
        "import forca\n",
        "import adivinhacao\n",
        "\n",
        "def escolhe_jogo():\n",
        "    print(\"*********************************\")\n",
        "    print(\"*******Escolha o seu jogo!*******\")\n",
        "    print(\"*********************************\")\n",
        "\n",
        "    print(\"(1) Forca (2) Adivinhação\")\n",
        "\n",
        "    jogo = int(input(\"Qual jogo? \"))\n",
        "\n",
        "    if (jogo == 1):\n",
        "        print(\"Jogando forca\")\n",
        "        forca.jogar()\n",
        "    elif (jogo == 2):\n",
        "        print(\"Jogando adivinhação\")\n",
        "        adivinhacao.jogar()\n",
        "\n",
        "if (__name__ == \"__main__\"):\n",
        "    escolhe_jogo()"
      ],
      "metadata": {
        "id": "DKWedLQ_fo8R"
      },
      "execution_count": null,
      "outputs": []
    }
  ]
}